{
 "cells": [
  {
   "attachments": {},
   "cell_type": "markdown",
   "metadata": {},
   "source": [
    "# CH11\n",
    "1. 그레디언트 소실 & 폭주\n",
    "2. 전이학습 : 레이블된 데이터가 적을 때 사용\n",
    "3. 비지도 사전훈련\n",
    "4. 훈련속도를 높여주는 최적화 방법\n",
    "5. 대규모 신경망을 위한 규제 기법 : 과적합방지"
   ]
  },
  {
   "attachments": {},
   "cell_type": "markdown",
   "metadata": {},
   "source": [
    "# 1. 그래디언트 소실&폭주\n",
    "- 로지스틱 시그모이드를 활성화 함수로 사용했을 때 평균이 0.5이므로 출력이 입력보다 커지게 됨 (편향이동 bias shift)\n",
    "- 또한 로지스틱 활성화 함수는 입력이 커지거나 작아지면 1 or 0으로 수렴하며 기울기가 0에 가까워짐 -> 역전파 시 그래디언트가 소실됨\n"
   ]
  },
  {
   "cell_type": "code",
   "execution_count": null,
   "metadata": {},
   "outputs": [],
   "source": []
  }
 ],
 "metadata": {
  "language_info": {
   "name": "python"
  },
  "orig_nbformat": 4
 },
 "nbformat": 4,
 "nbformat_minor": 2
}
