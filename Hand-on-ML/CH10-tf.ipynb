{
 "cells": [
  {
   "attachments": {},
   "cell_type": "markdown",
   "metadata": {},
   "source": [
    "# 퍼셉트론\n",
    "- iris data로 구현"
   ]
  },
  {
   "cell_type": "code",
   "execution_count": 57,
   "metadata": {},
   "outputs": [
    {
     "name": "stdout",
     "output_type": "stream",
     "text": [
      "['sepal length (cm)', 'sepal width (cm)', 'petal length (cm)', 'petal width (cm)']\n",
      "[0]\n"
     ]
    }
   ],
   "source": [
    "import numpy as np\n",
    "from sklearn.datasets import load_iris\n",
    "from sklearn.linear_model import Perceptron\n",
    "\n",
    "iris = load_iris()\n",
    "print(iris.feature_names)\n",
    "X = iris['data'][:,(2,3)] # 꽃잎의 길이와 너비\n",
    "y = (iris['target']==0).astype(np.int8) # Iris Setosa인지\n",
    "\n",
    "per_clf = Perceptron()\n",
    "per_clf.fit(X,y)\n",
    "\n",
    "y_pred = per_clf.predict([[2,0.5]])\n",
    "print(y_pred)"
   ]
  },
  {
   "attachments": {},
   "cell_type": "markdown",
   "metadata": {},
   "source": [
    "# 다층 퍼셉트론 MLP\n",
    "- 은닉층의 가중치를 랜덤하게 초기화 하는 것이 중요!\n",
    "    - IF 모두 0으로 초기화했다면 모든 뉴런이 완전히 같아짐\n",
    "    - 역전파단계에서 각 뉴런이 오차에 얼마나 기여했는지에 따라 업데이트하므로\n",
    "    - 같은 값으로 초기화한다면 모델은 하나의 뉴런이 있는 것처럼 동작할것임<br/><br/>\n",
    "- 활성화함수 계단함수 -> 시그모이드\n",
    "    - 기존의 퍼셉트론의 활성화함수 계단함수로는 역전파를 계산할 수 없음(미분 불능)<br/><br/>\n",
    "- 활성화 함수의 중요성!\n",
    "    - 퍼셉트론은 선형함수 + 활성화 함수임\n",
    "    - 선형함수가 아무리 달라도 선형함수->선형함수 = 선형함수임\n",
    "    - 비선형성(활성화 함수)를 추가 함으로써 어떠한 연속함수라도 근사할 수 있음"
   ]
  },
  {
   "cell_type": "code",
   "execution_count": 17,
   "metadata": {},
   "outputs": [],
   "source": [
    "#%pip install -U tensorflow\n",
    "#%pip install -U tensorflow-gpu\n",
    "\n",
    "import tensorflow as tf\n",
    "from tensorflow import keras\n",
    "\n",
    "# 데이터셋 적재\n",
    "fashion_mnist = keras.datasets.fashion_mnist\n",
    "(X_train_full , y_train_full) , (X_test , y_test) = fashion_mnist.load_data()"
   ]
  },
  {
   "cell_type": "code",
   "execution_count": 24,
   "metadata": {},
   "outputs": [],
   "source": [
    "# 정규화 값을 0 ~ 1사이로 맞추기\n",
    "X_valid , x_train = X_train_full[:5000]/255.0 , X_train_full[5000:]/255.0\n",
    "y_valid , y_train = y_train_full[:5000] , y_train_full[5000:]\n",
    "X_test = X_test/255.0\n",
    "\n",
    "# 클래스 이름 리스트 정의\n",
    "class_names = [\"T-shirt\",\"Trouser\",\"Pullover\",\"Dress\",\"Coat\",\"Sandal\",\"Shirt\",\"Sneaker\",\"Bag\",\"Ankle Boot\"]"
   ]
  },
  {
   "attachments": {},
   "cell_type": "markdown",
   "metadata": {},
   "source": [
    "두개의 은닉층으로 이루어진 MLP"
   ]
  },
  {
   "cell_type": "code",
   "execution_count": 25,
   "metadata": {},
   "outputs": [],
   "source": [
    "model = keras.models.Sequential()\n",
    "model.add(keras.layers.Flatten(input_shape=[28,28])) # input_shape는 배치크기를 제외하고 샘플의 크기\n",
    "model.add(keras.layers.Dense(300,activation='relu'))\n",
    "model.add(keras.layers.Dense(100,activation='relu'))\n",
    "model.add(keras.layers.Dense(10,activation='softmax')) #마지막 층은 출력층으로 10개의 라벨중 하나로 예측해야하므로 softmax"
   ]
  },
  {
   "cell_type": "code",
   "execution_count": null,
   "metadata": {},
   "outputs": [],
   "source": []
  }
 ],
 "metadata": {
  "kernelspec": {
   "display_name": "Python 3",
   "language": "python",
   "name": "python3"
  },
  "language_info": {
   "codemirror_mode": {
    "name": "ipython",
    "version": 3
   },
   "file_extension": ".py",
   "mimetype": "text/x-python",
   "name": "python",
   "nbconvert_exporter": "python",
   "pygments_lexer": "ipython3",
   "version": "3.10.9"
  },
  "orig_nbformat": 4
 },
 "nbformat": 4,
 "nbformat_minor": 2
}
